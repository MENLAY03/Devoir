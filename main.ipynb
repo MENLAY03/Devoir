{
 "cells": [
  {
   "cell_type": "code",
   "execution_count": 5,
   "metadata": {},
   "outputs": [
    {
     "name": "stdout",
     "output_type": "stream",
     "text": [
      "195.0\n"
     ]
    }
   ],
   "source": [
    "'Quel est le revenu du pepsi? '\n",
    "QuantiteDeVente = 130\n",
    "PrixPepsi = 1.50\n",
    "Revenu = QuantiteDeVente * PrixPepsi\n",
    "print(Revenu)\n",
    "\n"
   ]
  },
  {
   "cell_type": "code",
   "execution_count": 6,
   "metadata": {},
   "outputs": [
    {
     "name": "stdout",
     "output_type": "stream",
     "text": [
      "225.0\n"
     ]
    }
   ],
   "source": [
    "\" Quel est le revenu du coca cola?\"\n",
    "QuantiteDeVente = 150\n",
    "prixcocacola = 1.50\n",
    "Revenu = QuantiteDeVente * prixcocacola\n",
    "print(Revenu)"
   ]
  },
  {
   "cell_type": "code",
   "execution_count": 1,
   "metadata": {},
   "outputs": [
    {
     "name": "stdout",
     "output_type": "stream",
     "text": [
      "420.0\n"
     ]
    }
   ],
   "source": [
    "\"Quel est le benefice du magasin?\"\n",
    "RevenuDuPepsi=195.0\n",
    "RevenuDuCocacola=225.0\n",
    "RevenuTotal = RevenuDuPepsi + RevenuDuCocacola\n",
    "print(RevenuTotal)"
   ]
  },
  {
   "cell_type": "code",
   "execution_count": 9,
   "metadata": {},
   "outputs": [
    {
     "name": "stdout",
     "output_type": "stream",
     "text": [
      "168.0\n"
     ]
    }
   ],
   "source": [
    "\"Quel est la marge du magasin?\"\n",
    "Benefice = 420.0\n",
    "Depense = 2.500\n",
    "Marge = Benefice / Depense\n",
    "print(Marge)"
   ]
  }
 ],
 "metadata": {
  "kernelspec": {
   "display_name": "Python 3",
   "language": "python",
   "name": "python3"
  },
  "language_info": {
   "codemirror_mode": {
    "name": "ipython",
    "version": 3
   },
   "file_extension": ".py",
   "mimetype": "text/x-python",
   "name": "python",
   "nbconvert_exporter": "python",
   "pygments_lexer": "ipython3",
   "version": "3.13.1"
  }
 },
 "nbformat": 4,
 "nbformat_minor": 2
}
